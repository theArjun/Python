{
 "cells": [
  {
   "cell_type": "code",
   "execution_count": 1,
   "metadata": {},
   "outputs": [],
   "source": [
    "import requests"
   ]
  },
  {
   "cell_type": "code",
   "execution_count": 2,
   "metadata": {},
   "outputs": [],
   "source": [
    "r = requests.get('https://thearjun.tech')"
   ]
  },
  {
   "cell_type": "code",
   "execution_count": 4,
   "metadata": {},
   "outputs": [
    {
     "name": "stdout",
     "output_type": "stream",
     "text": [
      "<Response [200]>\n"
     ]
    }
   ],
   "source": [
    "print(r)"
   ]
  },
  {
   "cell_type": "code",
   "execution_count": 5,
   "metadata": {},
   "outputs": [
    {
     "name": "stdout",
     "output_type": "stream",
     "text": [
      "Help on Response in module requests.models object:\n",
      "\n",
      "class Response(builtins.object)\n",
      " |  The :class:`Response <Response>` object, which contains a\n",
      " |  server's response to an HTTP request.\n",
      " |  \n",
      " |  Methods defined here:\n",
      " |  \n",
      " |  __bool__(self)\n",
      " |      Returns True if :attr:`status_code` is less than 400.\n",
      " |      \n",
      " |      This attribute checks if the status code of the response is between\n",
      " |      400 and 600 to see if there was a client error or a server error. If\n",
      " |      the status code, is between 200 and 400, this will return True. This\n",
      " |      is **not** a check to see if the response code is ``200 OK``.\n",
      " |  \n",
      " |  __enter__(self)\n",
      " |  \n",
      " |  __exit__(self, *args)\n",
      " |  \n",
      " |  __getstate__(self)\n",
      " |  \n",
      " |  __init__(self)\n",
      " |      Initialize self.  See help(type(self)) for accurate signature.\n",
      " |  \n",
      " |  __iter__(self)\n",
      " |      Allows you to use a response as an iterator.\n",
      " |  \n",
      " |  __nonzero__(self)\n",
      " |      Returns True if :attr:`status_code` is less than 400.\n",
      " |      \n",
      " |      This attribute checks if the status code of the response is between\n",
      " |      400 and 600 to see if there was a client error or a server error. If\n",
      " |      the status code, is between 200 and 400, this will return True. This\n",
      " |      is **not** a check to see if the response code is ``200 OK``.\n",
      " |  \n",
      " |  __repr__(self)\n",
      " |      Return repr(self).\n",
      " |  \n",
      " |  __setstate__(self, state)\n",
      " |  \n",
      " |  close(self)\n",
      " |      Releases the connection back to the pool. Once this method has been\n",
      " |      called the underlying ``raw`` object must not be accessed again.\n",
      " |      \n",
      " |      *Note: Should not normally need to be called explicitly.*\n",
      " |  \n",
      " |  iter_content(self, chunk_size=1, decode_unicode=False)\n",
      " |      Iterates over the response data.  When stream=True is set on the\n",
      " |      request, this avoids reading the content at once into memory for\n",
      " |      large responses.  The chunk size is the number of bytes it should\n",
      " |      read into memory.  This is not necessarily the length of each item\n",
      " |      returned as decoding can take place.\n",
      " |      \n",
      " |      chunk_size must be of type int or None. A value of None will\n",
      " |      function differently depending on the value of `stream`.\n",
      " |      stream=True will read data as it arrives in whatever size the\n",
      " |      chunks are received. If stream=False, data is returned as\n",
      " |      a single chunk.\n",
      " |      \n",
      " |      If decode_unicode is True, content will be decoded using the best\n",
      " |      available encoding based on the response.\n",
      " |  \n",
      " |  iter_lines(self, chunk_size=512, decode_unicode=False, delimiter=None)\n",
      " |      Iterates over the response data, one line at a time.  When\n",
      " |      stream=True is set on the request, this avoids reading the\n",
      " |      content at once into memory for large responses.\n",
      " |      \n",
      " |      .. note:: This method is not reentrant safe.\n",
      " |  \n",
      " |  json(self, **kwargs)\n",
      " |      Returns the json-encoded content of a response, if any.\n",
      " |      \n",
      " |      :param \\*\\*kwargs: Optional arguments that ``json.loads`` takes.\n",
      " |      :raises ValueError: If the response body does not contain valid json.\n",
      " |  \n",
      " |  raise_for_status(self)\n",
      " |      Raises stored :class:`HTTPError`, if one occurred.\n",
      " |  \n",
      " |  ----------------------------------------------------------------------\n",
      " |  Data descriptors defined here:\n",
      " |  \n",
      " |  __dict__\n",
      " |      dictionary for instance variables (if defined)\n",
      " |  \n",
      " |  __weakref__\n",
      " |      list of weak references to the object (if defined)\n",
      " |  \n",
      " |  apparent_encoding\n",
      " |      The apparent encoding, provided by the chardet library.\n",
      " |  \n",
      " |  content\n",
      " |      Content of the response, in bytes.\n",
      " |  \n",
      " |  is_permanent_redirect\n",
      " |      True if this Response one of the permanent versions of redirect.\n",
      " |  \n",
      " |  is_redirect\n",
      " |      True if this Response is a well-formed HTTP redirect that could have\n",
      " |      been processed automatically (by :meth:`Session.resolve_redirects`).\n",
      " |  \n",
      " |  links\n",
      " |      Returns the parsed header links of the response, if any.\n",
      " |  \n",
      " |  next\n",
      " |      Returns a PreparedRequest for the next request in a redirect chain, if there is one.\n",
      " |  \n",
      " |  ok\n",
      " |      Returns True if :attr:`status_code` is less than 400, False if not.\n",
      " |      \n",
      " |      This attribute checks if the status code of the response is between\n",
      " |      400 and 600 to see if there was a client error or a server error. If\n",
      " |      the status code is between 200 and 400, this will return True. This\n",
      " |      is **not** a check to see if the response code is ``200 OK``.\n",
      " |  \n",
      " |  text\n",
      " |      Content of the response, in unicode.\n",
      " |      \n",
      " |      If Response.encoding is None, encoding will be guessed using\n",
      " |      ``chardet``.\n",
      " |      \n",
      " |      The encoding of the response content is determined based solely on HTTP\n",
      " |      headers, following RFC 2616 to the letter. If you can take advantage of\n",
      " |      non-HTTP knowledge to make a better guess at the encoding, you should\n",
      " |      set ``r.encoding`` appropriately before accessing this property.\n",
      " |  \n",
      " |  ----------------------------------------------------------------------\n",
      " |  Data and other attributes defined here:\n",
      " |  \n",
      " |  __attrs__ = ['_content', 'status_code', 'headers', 'url', 'history', '...\n",
      "\n",
      "None\n"
     ]
    }
   ],
   "source": [
    "print(help(r))"
   ]
  },
  {
   "cell_type": "code",
   "execution_count": 6,
   "metadata": {},
   "outputs": [
    {
     "name": "stdout",
     "output_type": "stream",
     "text": [
      "<!DOCTYPE html>\n",
      "<html lang=\"en\">\n",
      "<head>\n",
      "<title>Arjun Adhikari - Software Engineer From Nepal</title>\n",
      "<meta charset=\"UTF-8\">\n",
      "<meta name=\"viewport\" content=\"width=device-width, initial-scale=1\">\n",
      "\n",
      "<link rel=\"icon\" type=\"image/png\" href=\"images/icons/favicon.ico\" />\n",
      "\n",
      "<link rel=\"stylesheet\" type=\"text/css\" href=\"vendor/bootstrap/css/bootstrap.min.css\">\n",
      "\n",
      "<link rel=\"stylesheet\" type=\"text/css\" href=\"fonts/font-awesome-4.7.0/css/font-awesome.min.css\">\n",
      "\n",
      "<link rel=\"stylesheet\" type=\"text/css\" href=\"fonts/iconic/css/material-design-iconic-font.min.css\">\n",
      "\n",
      "<link rel=\"stylesheet\" type=\"text/css\" href=\"vendor/animate/animate.css\">\n",
      "\n",
      "<link rel=\"stylesheet\" type=\"text/css\" href=\"vendor/select2/select2.min.css\">\n",
      "\n",
      "<link rel=\"stylesheet\" type=\"text/css\" href=\"css/util.css\">\n",
      "<link rel=\"stylesheet\" type=\"text/css\" href=\"css/main.css\">\n",
      "\n",
      "</head>\n",
      "<body>\n",
      "<div class=\"bg-g1 size1 flex-w flex-col-c-sb p-l-15 p-r-15 p-t-55 p-b-35 respon1\">\n",
      "<span></span>\n",
      "<div class=\"flex-col-c p-t-50 p-b-50\">\n",
      "<h3 class=\"l1-txt1 txt-center p-b-10\">\n",
      "Coming Soon\n",
      "</h3>\n",
      "<p class=\"txt-center l1-txt2 p-b-60\">\n",
      "Our website is under construction\n",
      "</p>\n",
      "<div class=\"flex-w flex-c cd100 p-b-82\">\n",
      "<div class=\"flex-col-c-m size2 how-countdown\">\n",
      "<span class=\"l1-txt3 p-b-9 days\">8</span>\n",
      "<span class=\"s1-txt1\">Days</span>\n",
      "</div>\n",
      "<div class=\"flex-col-c-m size2 how-countdown\">\n",
      "<span class=\"l1-txt3 p-b-9 hours\">17</span>\n",
      "<span class=\"s1-txt1\">Hours</span>\n",
      "</div>\n",
      "<div class=\"flex-col-c-m size2 how-countdown\">\n",
      "<span class=\"l1-txt3 p-b-9 minutes\">50</span>\n",
      "<span class=\"s1-txt1\">Minutes</span>\n",
      "</div>\n",
      "<div class=\"flex-col-c-m size2 how-countdown\">\n",
      "<span class=\"l1-txt3 p-b-9 seconds\">39</span>\n",
      "<span class=\"s1-txt1\">Seconds</span>\n",
      "</div>\n",
      "</div>\n",
      "<button class=\"flex-c-m s1-txt2 size3 how-btn\" data-toggle=\"modal\" data-target=\"#subscribe\">\n",
      "Follow us for update now!\n",
      "</button>\n",
      "</div>\n",
      "</div>\n",
      "\n",
      "<div class=\"modal fade\" id=\"subscribe\" tabindex=\"-1\" role=\"dialog\" aria-hidden=\"true\">\n",
      "<div class=\"modal-dialog\" role=\"document\" data-dismiss=\"modal\">\n",
      "<div class=\"modal-subscribe where1-parent bg0 bor2 size4 p-t-54 p-b-100 p-l-15 p-r-15\">\n",
      "<button class=\"btn-close-modal how-btn2 fs-26 where1 trans-04\">\n",
      "<i class=\"zmdi zmdi-close\"></i>\n",
      "</button>\n",
      "<div class=\"wsize1 m-lr-auto\">\n",
      "<h3 class=\"m1-txt1 txt-center p-b-36\">\n",
      "<span class=\"bor1 p-b-6\">Subscribe</span>\n",
      "</h3>\n",
      "<p class=\"m1-txt2 txt-center p-b-40\">\n",
      "Follow us for update now!\n",
      "</p>\n",
      "<form class=\"contact100-form validate-form\">\n",
      "<div class=\"wrap-input100 m-b-10 validate-input\" data-validate=\"Name is required\">\n",
      "<input class=\"s1-txt4 placeholder0 input100\" type=\"text\" name=\"name\" placeholder=\"Name\">\n",
      "<span class=\"focus-input100\"></span>\n",
      "</div>\n",
      "<div class=\"wrap-input100 m-b-20 validate-input\" data-validate=\"Email is required: ex@abc.xyz\">\n",
      "<input class=\"s1-txt4 placeholder0 input100\" type=\"text\" name=\"email\" placeholder=\"Email\">\n",
      "<span class=\"focus-input100\"></span>\n",
      "</div>\n",
      "<div class=\"w-full\">\n",
      "<button class=\"flex-c-m s1-txt2 size5 how-btn1 trans-04\">\n",
      "Get Updates\n",
      "</button>\n",
      "</div>\n",
      "</form>\n",
      "<p class=\"s1-txt5 txt-center wsize2 m-lr-auto p-t-20\">\n",
      "And donât worry, we hate spam too! You can unsubcribe at anytime.\n",
      "</p>\n",
      "</div>\n",
      "</div>\n",
      "</div>\n",
      "</div>\n",
      "\n",
      "<script src=\"vendor/jquery/jquery-3.2.1.min.js\"></script>\n",
      "\n",
      "<script src=\"vendor/bootstrap/js/popper.js\"></script>\n",
      "<script src=\"vendor/bootstrap/js/bootstrap.min.js\"></script>\n",
      "\n",
      "<script src=\"vendor/select2/select2.min.js\"></script>\n",
      "\n",
      "<script src=\"vendor/countdowntime/moment.min.js\"></script>\n",
      "<script src=\"vendor/countdowntime/moment-timezone.min.js\"></script>\n",
      "<script src=\"vendor/countdowntime/moment-timezone-with-data.min.js\"></script>\n",
      "<script src=\"vendor/countdowntime/countdowntime.js\"></script>\n",
      "<script>\n",
      "\t\t$('.cd100').countdown100({\n",
      "\t\t\t// Set Endtime here\n",
      "\t\t\t// Endtime must be > current time\n",
      "\t\t\tendtimeYear: 0,\n",
      "\t\t\tendtimeMonth: 0,\n",
      "\t\t\tendtimeDate: 35,\n",
      "\t\t\tendtimeHours: 18,\n",
      "\t\t\tendtimeMinutes: 0,\n",
      "\t\t\tendtimeSeconds: 0,\n",
      "\t\t\ttimeZone: \"\"\n",
      "\t\t\t// ex:  timeZone: \"America/New_York\", can be empty\n",
      "\t\t\t// go to \" http://momentjs.com/timezone/ \" to get timezone\n",
      "\t\t});\n",
      "\t</script>\n",
      "\n",
      "<script src=\"vendor/tilt/tilt.jquery.min.js\"></script>\n",
      "<script>\n",
      "\t\t$('.js-tilt').tilt({\n",
      "\t\t\tscale: 1.1\n",
      "\t\t})\n",
      "\t</script>\n",
      "\n",
      "<script src=\"js/main.js\"></script>\n",
      "</body>\n",
      "</html>\n",
      "\n"
     ]
    }
   ],
   "source": [
    "print(r.text)"
   ]
  },
  {
   "cell_type": "code",
   "execution_count": 7,
   "metadata": {},
   "outputs": [
    {
     "name": "stdout",
     "output_type": "stream",
     "text": [
      "True\n"
     ]
    }
   ],
   "source": [
    "print(r.ok)"
   ]
  },
  {
   "cell_type": "code",
   "execution_count": 8,
   "metadata": {},
   "outputs": [
    {
     "name": "stdout",
     "output_type": "stream",
     "text": [
      "b'<!DOCTYPE html>\\n<html lang=\"en\">\\n<head>\\n<title>Arjun Adhikari - Software Engineer From Nepal</title>\\n<meta charset=\"UTF-8\">\\n<meta name=\"viewport\" content=\"width=device-width, initial-scale=1\">\\n\\n<link rel=\"icon\" type=\"image/png\" href=\"images/icons/favicon.ico\" />\\n\\n<link rel=\"stylesheet\" type=\"text/css\" href=\"vendor/bootstrap/css/bootstrap.min.css\">\\n\\n<link rel=\"stylesheet\" type=\"text/css\" href=\"fonts/font-awesome-4.7.0/css/font-awesome.min.css\">\\n\\n<link rel=\"stylesheet\" type=\"text/css\" href=\"fonts/iconic/css/material-design-iconic-font.min.css\">\\n\\n<link rel=\"stylesheet\" type=\"text/css\" href=\"vendor/animate/animate.css\">\\n\\n<link rel=\"stylesheet\" type=\"text/css\" href=\"vendor/select2/select2.min.css\">\\n\\n<link rel=\"stylesheet\" type=\"text/css\" href=\"css/util.css\">\\n<link rel=\"stylesheet\" type=\"text/css\" href=\"css/main.css\">\\n\\n</head>\\n<body>\\n<div class=\"bg-g1 size1 flex-w flex-col-c-sb p-l-15 p-r-15 p-t-55 p-b-35 respon1\">\\n<span></span>\\n<div class=\"flex-col-c p-t-50 p-b-50\">\\n<h3 class=\"l1-txt1 txt-center p-b-10\">\\nComing Soon\\n</h3>\\n<p class=\"txt-center l1-txt2 p-b-60\">\\nOur website is under construction\\n</p>\\n<div class=\"flex-w flex-c cd100 p-b-82\">\\n<div class=\"flex-col-c-m size2 how-countdown\">\\n<span class=\"l1-txt3 p-b-9 days\">8</span>\\n<span class=\"s1-txt1\">Days</span>\\n</div>\\n<div class=\"flex-col-c-m size2 how-countdown\">\\n<span class=\"l1-txt3 p-b-9 hours\">17</span>\\n<span class=\"s1-txt1\">Hours</span>\\n</div>\\n<div class=\"flex-col-c-m size2 how-countdown\">\\n<span class=\"l1-txt3 p-b-9 minutes\">50</span>\\n<span class=\"s1-txt1\">Minutes</span>\\n</div>\\n<div class=\"flex-col-c-m size2 how-countdown\">\\n<span class=\"l1-txt3 p-b-9 seconds\">39</span>\\n<span class=\"s1-txt1\">Seconds</span>\\n</div>\\n</div>\\n<button class=\"flex-c-m s1-txt2 size3 how-btn\" data-toggle=\"modal\" data-target=\"#subscribe\">\\nFollow us for update now!\\n</button>\\n</div>\\n</div>\\n\\n<div class=\"modal fade\" id=\"subscribe\" tabindex=\"-1\" role=\"dialog\" aria-hidden=\"true\">\\n<div class=\"modal-dialog\" role=\"document\" data-dismiss=\"modal\">\\n<div class=\"modal-subscribe where1-parent bg0 bor2 size4 p-t-54 p-b-100 p-l-15 p-r-15\">\\n<button class=\"btn-close-modal how-btn2 fs-26 where1 trans-04\">\\n<i class=\"zmdi zmdi-close\"></i>\\n</button>\\n<div class=\"wsize1 m-lr-auto\">\\n<h3 class=\"m1-txt1 txt-center p-b-36\">\\n<span class=\"bor1 p-b-6\">Subscribe</span>\\n</h3>\\n<p class=\"m1-txt2 txt-center p-b-40\">\\nFollow us for update now!\\n</p>\\n<form class=\"contact100-form validate-form\">\\n<div class=\"wrap-input100 m-b-10 validate-input\" data-validate=\"Name is required\">\\n<input class=\"s1-txt4 placeholder0 input100\" type=\"text\" name=\"name\" placeholder=\"Name\">\\n<span class=\"focus-input100\"></span>\\n</div>\\n<div class=\"wrap-input100 m-b-20 validate-input\" data-validate=\"Email is required: ex@abc.xyz\">\\n<input class=\"s1-txt4 placeholder0 input100\" type=\"text\" name=\"email\" placeholder=\"Email\">\\n<span class=\"focus-input100\"></span>\\n</div>\\n<div class=\"w-full\">\\n<button class=\"flex-c-m s1-txt2 size5 how-btn1 trans-04\">\\nGet Updates\\n</button>\\n</div>\\n</form>\\n<p class=\"s1-txt5 txt-center wsize2 m-lr-auto p-t-20\">\\nAnd don\\xe2\\x80\\x99t worry, we hate spam too! You can unsubcribe at anytime.\\n</p>\\n</div>\\n</div>\\n</div>\\n</div>\\n\\n<script src=\"vendor/jquery/jquery-3.2.1.min.js\"></script>\\n\\n<script src=\"vendor/bootstrap/js/popper.js\"></script>\\n<script src=\"vendor/bootstrap/js/bootstrap.min.js\"></script>\\n\\n<script src=\"vendor/select2/select2.min.js\"></script>\\n\\n<script src=\"vendor/countdowntime/moment.min.js\"></script>\\n<script src=\"vendor/countdowntime/moment-timezone.min.js\"></script>\\n<script src=\"vendor/countdowntime/moment-timezone-with-data.min.js\"></script>\\n<script src=\"vendor/countdowntime/countdowntime.js\"></script>\\n<script>\\n\\t\\t$(\\'.cd100\\').countdown100({\\n\\t\\t\\t// Set Endtime here\\n\\t\\t\\t// Endtime must be > current time\\n\\t\\t\\tendtimeYear: 0,\\n\\t\\t\\tendtimeMonth: 0,\\n\\t\\t\\tendtimeDate: 35,\\n\\t\\t\\tendtimeHours: 18,\\n\\t\\t\\tendtimeMinutes: 0,\\n\\t\\t\\tendtimeSeconds: 0,\\n\\t\\t\\ttimeZone: \"\"\\n\\t\\t\\t// ex:  timeZone: \"America/New_York\", can be empty\\n\\t\\t\\t// go to \" http://momentjs.com/timezone/ \" to get timezone\\n\\t\\t});\\n\\t</script>\\n\\n<script src=\"vendor/tilt/tilt.jquery.min.js\"></script>\\n<script>\\n\\t\\t$(\\'.js-tilt\\').tilt({\\n\\t\\t\\tscale: 1.1\\n\\t\\t})\\n\\t</script>\\n\\n<script src=\"js/main.js\"></script>\\n</body>\\n</html>\\n'\n"
     ]
    }
   ],
   "source": [
    "print(r.content)"
   ]
  },
  {
   "cell_type": "code",
   "execution_count": 9,
   "metadata": {},
   "outputs": [
    {
     "name": "stdout",
     "output_type": "stream",
     "text": [
      "200\n"
     ]
    }
   ],
   "source": [
    "print(r.status_code)"
   ]
  },
  {
   "cell_type": "code",
   "execution_count": 10,
   "metadata": {},
   "outputs": [
    {
     "name": "stdout",
     "output_type": "stream",
     "text": [
      "{'Date': 'Wed, 10 Apr 2019 09:16:10 GMT', 'Content-Type': 'text/html', 'Transfer-Encoding': 'chunked', 'Connection': 'keep-alive', 'Set-Cookie': '__cfduid=ddf9d22a4f43b00010f1a6b7d148881b71554887769; expires=Thu, 09-Apr-20 09:16:09 GMT; path=/; domain=.thearjun.tech; HttpOnly; Secure', 'Vary': 'Accept-Encoding', 'Last-Modified': 'Fri, 26 Oct 2018 01:11:31 GMT', 'Cache-Control': 'max-age=2592000, public, proxy-revalidate, public, proxy-revalidate', 'Expires': 'Fri, 10 May 2019 09:21:27 GMT', 'Expect-CT': 'max-age=604800, report-uri=\"https://report-uri.cloudflare.com/cdn-cgi/beacon/expect-ct\"', 'Server': 'cloudflare', 'CF-RAY': '4c539ed26ec2a77b-KTM', 'Content-Encoding': 'gzip'}\n"
     ]
    }
   ],
   "source": [
    "print(r.headers)"
   ]
  }
 ],
 "metadata": {
  "kernelspec": {
   "display_name": "Python 3",
   "language": "python",
   "name": "python3"
  },
  "language_info": {
   "codemirror_mode": {
    "name": "ipython",
    "version": 3
   },
   "file_extension": ".py",
   "mimetype": "text/x-python",
   "name": "python",
   "nbconvert_exporter": "python",
   "pygments_lexer": "ipython3",
   "version": "3.7.3"
  }
 },
 "nbformat": 4,
 "nbformat_minor": 2
}
