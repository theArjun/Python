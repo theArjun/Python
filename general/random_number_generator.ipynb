{
 "cells": [
  {
   "cell_type": "markdown",
   "metadata": {},
   "source": [
    "# Random Number Guesser"
   ]
  },
  {
   "cell_type": "code",
   "execution_count": 1,
   "metadata": {},
   "outputs": [
    {
     "name": "stdout",
     "output_type": "stream",
     "text": [
      "Enter a number between 0 and 20 : 4\n",
      "You guessed high.\n",
      "Please try again. The number generated was :  3\n"
     ]
    }
   ],
   "source": [
    "import random\n",
    "\n",
    "# Generates a random integer value between 0 and 20.\n",
    "num = random.randint(0,20)\n",
    "\n",
    "user_num = int(input(\"Enter a number between 0 and 20 : \"))\n",
    "if user_num < num:\n",
    "    print(\"You guessed low.\")\n",
    "elif user_num > num:\n",
    "    print(\"You guessed high.\")\n",
    "else:\n",
    "    pass\n",
    "    \n",
    "if user_num == num:\n",
    "    print(\"Congratulations! You guessed correct.\")\n",
    "else:\n",
    "    print(\"Please try again. The number generated was : \", num)\n",
    "    "
   ]
  }
 ],
 "metadata": {
  "kernelspec": {
   "display_name": "Python 3",
   "language": "python",
   "name": "python3"
  },
  "language_info": {
   "codemirror_mode": {
    "name": "ipython",
    "version": 3
   },
   "file_extension": ".py",
   "mimetype": "text/x-python",
   "name": "python",
   "nbconvert_exporter": "python",
   "pygments_lexer": "ipython3",
   "version": "3.7.3"
  }
 },
 "nbformat": 4,
 "nbformat_minor": 2
}
