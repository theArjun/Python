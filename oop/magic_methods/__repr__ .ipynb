{
 "cells": [
  {
   "cell_type": "markdown",
   "metadata": {},
   "source": [
    "# Magic Methods"
   ]
  },
  {
   "cell_type": "markdown",
   "metadata": {},
   "source": [
    "Dunder or magic methods in Python are the methods having two prefix and suffix underscores in the method name. Dunder here means “Double Under (Underscores)”. These are commonly used for operator overloading. Few examples for magic methods are: __init__, __add__, __len__, __repr__ etc.\n",
    "\n",
    "The __init__ method for initialization is invoked without any call, when an instance of a class is created, like constructors in certain other programming languages such as C++, Java, C#, PHP etc. These methods are the reason we can add two strings with ‘+’ operator without any explicit typecasting"
   ]
  },
  {
   "cell_type": "markdown",
   "metadata": {},
   "source": [
    "> Let's implement __repr__ dunder with PEP8 Standard :"
   ]
  },
  {
   "cell_type": "code",
   "execution_count": 1,
   "metadata": {},
   "outputs": [
    {
     "name": "stdout",
     "output_type": "stream",
     "text": [
      "Name : arjun adhikari Email : arjunadhikari@email.com\n"
     ]
    }
   ],
   "source": [
    "class Employee:\n",
    "\n",
    "    def __init__(self, first_name, last_name, salary):\n",
    "\n",
    "        self.first_name = first_name\n",
    "        self.last_name = last_name\n",
    "        self.salary = salary\n",
    "        self.full_name = '{} {}'.format(self.first_name, self.last_name)\n",
    "        self.email = '{}{}@email.com'.format(self.first_name, self.last_name)\n",
    "\n",
    "    def __repr__(self):\n",
    "        return 'Name : {} Email : {}'.format(self.full_name, self.email)\n",
    "\n",
    "\n",
    "if __name__ == '__main__':\n",
    "\n",
    "    emp_one = Employee('arjun', 'adhikari', 5000)\n",
    "    print(emp_one)\n"
   ]
  },
  {
   "cell_type": "markdown",
   "metadata": {},
   "source": [
    "\n",
    " The default implementation is useless (it’s hard to think of one which wouldn’t be, but yeah)\n",
    "- __repr__ goal is to be unambiguous\n",
    "- __str__ goal is to be readable  \n",
    " Container’s __str__ uses contained objects’ __repr__\n"
   ]
  }
 ],
 "metadata": {
  "kernelspec": {
   "display_name": "Python 3",
   "language": "python",
   "name": "python3"
  },
  "language_info": {
   "codemirror_mode": {
    "name": "ipython",
    "version": 3
   },
   "file_extension": ".py",
   "mimetype": "text/x-python",
   "name": "python",
   "nbconvert_exporter": "python",
   "pygments_lexer": "ipython3",
   "version": "3.7.3"
  }
 },
 "nbformat": 4,
 "nbformat_minor": 2
}
