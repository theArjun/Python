{
 "cells": [
  {
   "cell_type": "markdown",
   "metadata": {},
   "source": [
    "### Decorators in Web Formatting"
   ]
  },
  {
   "cell_type": "code",
   "execution_count": 1,
   "metadata": {},
   "outputs": [],
   "source": [
    "def decorator_func(original_func):\n",
    "    def wrapper_func():\n",
    "        print(\"Date : April 6, 2019\")\n",
    "        original_func()\n",
    "        print(\"Written by Arjun Adhikari\")\n",
    "    return wrapper_func"
   ]
  },
  {
   "cell_type": "code",
   "execution_count": 4,
   "metadata": {},
   "outputs": [],
   "source": [
    "@decorator_func\n",
    "def article_writer():\n",
    "    article = \"People from Nepal are facing the political problem these days.\"\n",
    "    print(article)"
   ]
  },
  {
   "cell_type": "code",
   "execution_count": 5,
   "metadata": {},
   "outputs": [
    {
     "name": "stdout",
     "output_type": "stream",
     "text": [
      "Date : April 6, 2019\n",
      "People from Nepal are facing the political problem these days.\n",
      "Written by Arjun Adhikari\n"
     ]
    }
   ],
   "source": [
    "article_writer()"
   ]
  }
 ],
 "metadata": {
  "kernelspec": {
   "display_name": "Python 3",
   "language": "python",
   "name": "python3"
  },
  "language_info": {
   "codemirror_mode": {
    "name": "ipython",
    "version": 3
   },
   "file_extension": ".py",
   "mimetype": "text/x-python",
   "name": "python",
   "nbconvert_exporter": "python",
   "pygments_lexer": "ipython3",
   "version": "3.7.3"
  }
 },
 "nbformat": 4,
 "nbformat_minor": 2
}
