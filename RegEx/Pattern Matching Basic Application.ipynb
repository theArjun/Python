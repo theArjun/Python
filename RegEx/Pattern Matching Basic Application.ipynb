{
 "cells": [
  {
   "cell_type": "code",
   "execution_count": 1,
   "metadata": {},
   "outputs": [],
   "source": [
    "import re\n",
    "\n",
    "count = 0\n",
    "pattern = re.compile('ab')\n",
    "matcher = pattern.finditer('abaabaabb')"
   ]
  },
  {
   "cell_type": "markdown",
   "metadata": {},
   "source": [
    "Let's iterate over the matcher object here.  \n",
    "Using the ```start()``` method :"
   ]
  },
  {
   "cell_type": "code",
   "execution_count": 2,
   "metadata": {},
   "outputs": [
    {
     "name": "stdout",
     "output_type": "stream",
     "text": [
      "Match is available at start index :  0\n",
      "Match is available at start index :  3\n",
      "Match is available at start index :  6\n",
      "Total Occurence :  3\n"
     ]
    }
   ],
   "source": [
    "for match_ in matcher:\n",
    "    count += 1\n",
    "    print('Match is available at start index : ', match_.start())\n",
    "print('Total Occurence : ', count)    "
   ]
  },
  {
   "cell_type": "markdown",
   "metadata": {},
   "source": [
    "Also can be done like this : "
   ]
  },
  {
   "cell_type": "markdown",
   "metadata": {},
   "source": [
    "```for match in matcher:\n",
    "    print(match)```"
   ]
  },
  {
   "cell_type": "code",
   "execution_count": 9,
   "metadata": {},
   "outputs": [
    {
     "name": "stdout",
     "output_type": "stream",
     "text": [
      "<re.Match object; span=(0, 5), match='arjun'>\n",
      "<re.Match object; span=(23, 28), match='arjun'>\n",
      "Total Occurence :  2\n"
     ]
    }
   ],
   "source": [
    "import re\n",
    "\n",
    "count = 0\n",
    "pattern_ = re.compile('arjun')\n",
    "matcher_ = pattern_.finditer('arjun is a programmer. arjun loves to code.')\n",
    "for match in matcher_:\n",
    "    count += 1\n",
    "    print(match)\n",
    "print('Total Occurence : ', count)"
   ]
  },
  {
   "cell_type": "markdown",
   "metadata": {},
   "source": [
    "Using the ```end()``` method:"
   ]
  },
  {
   "cell_type": "code",
   "execution_count": null,
   "metadata": {},
   "outputs": [],
   "source": [
    "import re\n",
    "\n",
    "count = 0\n",
    "pattern__ = re.compile('ba')\n",
    "matcher__ = pattern__.finditer('babbabbbbababababababaaab')\n",
    "for match in matcher__:\n",
    "    count += 1\n",
    "    print('End index found at : ', match.end())\n",
    "print('Total O')"
   ]
  }
 ],
 "metadata": {
  "kernelspec": {
   "display_name": "Python 3",
   "language": "python",
   "name": "python3"
  },
  "language_info": {
   "codemirror_mode": {
    "name": "ipython",
    "version": 3
   },
   "file_extension": ".py",
   "mimetype": "text/x-python",
   "name": "python",
   "nbconvert_exporter": "python",
   "pygments_lexer": "ipython3",
   "version": "3.7.3"
  }
 },
 "nbformat": 4,
 "nbformat_minor": 2
}
